{
 "cells": [
  {
   "cell_type": "code",
   "execution_count": null,
   "metadata": {},
   "outputs": [],
   "source": [
    "# Código Completo\n",
    "\n",
    "# Logar no WhatsApp\n",
    "import pyautogui\n",
    "from time import sleep\n",
    "import webbrowser\n",
    "from urllib.parse import quote\n",
    "import openpyxl\n",
    "webbrowser.open('https://web.whatsapp.com/')\n",
    "sleep(30)\n",
    "\n",
    "# Importações\n",
    "\n",
    "# Importanto a planilha.\n",
    "workbook = openpyxl.load_workbook('Contatos Teste.xlsx')\n",
    "# Indicando qual aba eu quero utilizar.\n",
    "pagina_clientes = workbook['Plan1']\n",
    "# Informando qual a primeira linha de leitura\n",
    "for linha in pagina_clientes.iter_rows(min_row=2):\n",
    "    grupo = linha[0].value\n",
    "    cota = linha[1].value\n",
    "    nome = linha[2].value\n",
    "    telefone = linha[3].value\n",
    "\n",
    "    try:\n",
    "        # mensagem = f'Prezado Sr.(a) {nome} - Grupo: {grupo} Cota: {cota}. Informamos que, de acordo com o Art. 10 da Circular do Banco Central do Brasil n° 3.432, sua cota terá a contemplação cancelada na próxima assembleia Geral Ordinária, a ser realizada em 19/05/2025.Para evitar o cancelamento, efetue o pagamento dos boletos, que deverá ocorrer até o dia do vencimento (16/05/2025). Colocamo-nos à disposição para eventuais esclarecimentos que forem necessários, pois o nosso interesse é preservar a sua conquista. Caso os pagamentos já tenham sido efetuados, pedimos que nos envie os comprovantes e desconsidere esta mensagem. Atenciosamente,  Bancorbrás Administradora de Consórcios S.A. Setor Comercial Norte - SCN, Quadra 2, Bloco C, Asa Norte, Brasília/DF, CEP: 70.712.030.'\n",
    "        # mensagem = f'Prezado Sr.(a) {nome} - Grupo: {grupo} Cota: {cota}. Gostaria de informar que iniciamos os procedimentos legais relacionados aos débitos em sua cota. O(a) senhor(a) tem interesse em negociar o débito para evitar ações judiciais? Se estiver interessado em regularizar a situação, solicitamos que entre em contato conosco com urgência através do número 0800.726.8484 ou por este WhatsApp. Estamos à disposição para esclarecer quaisquer dúvidas e facilitar o processo.'\n",
    "        link_msg = f'https://web.whatsapp.com/send?phone={telefone}&text={quote(mensagem)}'\n",
    "        webbrowser.open(link_msg)\n",
    "        sleep(10)\n",
    "        # pyautogui.hotkey('ctrl', 'w')\n",
    "        seta = pyautogui.locateCenterOnScreen('seta.png')\n",
    "        sleep(5)\n",
    "        pyautogui.click(seta[0], seta[1])\n",
    "        sleep(5)\n",
    "        pyautogui.hotkey('ctrl', 'w')\n",
    "    except:\n",
    "        print(f'Não foi possível enviar mensagem para {nome}')\n",
    "        with open('erros.csv', 'a', newline='', encoding='utf-8') as arquivo:\n",
    "            arquivo.write(f'{nome}, {telefone}')\n",
    "            pyautogui.hotkey('ctrl', 'w')"
   ]
  }
 ],
 "metadata": {
  "kernelspec": {
   "display_name": "msg_auto",
   "language": "python",
   "name": "python3"
  },
  "language_info": {
   "codemirror_mode": {
    "name": "ipython",
    "version": 3
   },
   "file_extension": ".py",
   "mimetype": "text/x-python",
   "name": "python",
   "nbconvert_exporter": "python",
   "pygments_lexer": "ipython3",
   "version": "3.12.10"
  }
 },
 "nbformat": 4,
 "nbformat_minor": 2
}
